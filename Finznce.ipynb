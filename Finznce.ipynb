{
  "nbformat": 4,
  "nbformat_minor": 0,
  "metadata": {
    "colab": {
      "name": "Untitled17.ipynb",
      "provenance": []
    },
    "kernelspec": {
      "name": "python3",
      "display_name": "Python 3"
    },
    "language_info": {
      "name": "python"
    }
  },
  "cells": [
    {
      "cell_type": "markdown",
      "source": [
        "Use python to download its historical daily data via Yahoo Finance. "
      ],
      "metadata": {
        "id": "qdES_duQ9qTB"
      }
    },
    {
      "cell_type": "code",
      "execution_count": null,
      "metadata": {
        "id": "feaqWM664hMp"
      },
      "outputs": [],
      "source": [
        "import time\n",
        "import datetime\n",
        "import pandas as pd\n",
        "\n",
        "ticker = 'AAPL'\n",
        "period1 = int(time.mktime(datetime.datetime(2020, 12, 1, 23, 59).timetuple()))\n",
        "period2 = int(time.mktime(datetime.datetime(2021, 12, 1, 23, 59).timetuple()))\n",
        "interval = '1d' # 1d, 1m\n",
        "\n",
        "query_string = f'https://query1.finance.yahoo.com/v7/finance/download/{ticker}?period1={period1}&period2={period2}&interval={interval}&events=history&includeAdjustedClose=true'\n",
        "\n",
        "df = pd.read_csv(query_string)\n",
        "# print(df)\n",
        "df.to_csv('AAPL.csv')"
      ]
    },
    {
      "cell_type": "markdown",
      "source": [
        "Show the movement of one major cryptocurrency for the one-year period.  "
      ],
      "metadata": {
        "id": "xPBjbnYe9rc-"
      }
    },
    {
      "cell_type": "code",
      "source": [
        "df"
      ],
      "metadata": {
        "colab": {
          "base_uri": "https://localhost:8080/",
          "height": 424
        },
        "id": "DZJiaCo-95H3",
        "outputId": "b5799248-311b-4ba1-e635-db468d6fa130"
      },
      "execution_count": 5,
      "outputs": [
        {
          "output_type": "execute_result",
          "data": {
            "text/plain": [
              "           Date        Open        High         Low       Close   Adj Close  \\\n",
              "0    2020-12-01  121.010002  123.470001  120.010002  122.720001  121.812904   \n",
              "1    2020-12-02  122.019997  123.370003  120.889999  123.080002  122.170235   \n",
              "2    2020-12-03  123.519997  123.779999  122.209999  122.940002  122.031281   \n",
              "3    2020-12-04  122.599998  122.860001  121.519997  122.250000  121.346375   \n",
              "4    2020-12-07  122.309998  124.570000  122.250000  123.750000  122.835289   \n",
              "..          ...         ...         ...         ...         ...         ...   \n",
              "248  2021-11-24  160.750000  162.139999  159.639999  161.940002  161.733948   \n",
              "249  2021-11-26  159.570007  160.449997  156.360001  156.809998  156.610474   \n",
              "250  2021-11-29  159.369995  161.190002  158.789993  160.240005  160.036102   \n",
              "251  2021-11-30  159.990005  165.520004  159.919998  165.300003  165.089676   \n",
              "252  2021-12-01  167.479996  170.300003  164.529999  164.770004  164.560349   \n",
              "\n",
              "        Volume  \n",
              "0    127728200  \n",
              "1     89004200  \n",
              "2     78967600  \n",
              "3     78260400  \n",
              "4     86712000  \n",
              "..         ...  \n",
              "248   69463600  \n",
              "249   76959800  \n",
              "250   88748200  \n",
              "251  174048100  \n",
              "252  152052500  \n",
              "\n",
              "[253 rows x 7 columns]"
            ],
            "text/html": [
              "\n",
              "  <div id=\"df-1df508a7-92c6-477e-85bf-50af6786f82c\">\n",
              "    <div class=\"colab-df-container\">\n",
              "      <div>\n",
              "<style scoped>\n",
              "    .dataframe tbody tr th:only-of-type {\n",
              "        vertical-align: middle;\n",
              "    }\n",
              "\n",
              "    .dataframe tbody tr th {\n",
              "        vertical-align: top;\n",
              "    }\n",
              "\n",
              "    .dataframe thead th {\n",
              "        text-align: right;\n",
              "    }\n",
              "</style>\n",
              "<table border=\"1\" class=\"dataframe\">\n",
              "  <thead>\n",
              "    <tr style=\"text-align: right;\">\n",
              "      <th></th>\n",
              "      <th>Date</th>\n",
              "      <th>Open</th>\n",
              "      <th>High</th>\n",
              "      <th>Low</th>\n",
              "      <th>Close</th>\n",
              "      <th>Adj Close</th>\n",
              "      <th>Volume</th>\n",
              "    </tr>\n",
              "  </thead>\n",
              "  <tbody>\n",
              "    <tr>\n",
              "      <th>0</th>\n",
              "      <td>2020-12-01</td>\n",
              "      <td>121.010002</td>\n",
              "      <td>123.470001</td>\n",
              "      <td>120.010002</td>\n",
              "      <td>122.720001</td>\n",
              "      <td>121.812904</td>\n",
              "      <td>127728200</td>\n",
              "    </tr>\n",
              "    <tr>\n",
              "      <th>1</th>\n",
              "      <td>2020-12-02</td>\n",
              "      <td>122.019997</td>\n",
              "      <td>123.370003</td>\n",
              "      <td>120.889999</td>\n",
              "      <td>123.080002</td>\n",
              "      <td>122.170235</td>\n",
              "      <td>89004200</td>\n",
              "    </tr>\n",
              "    <tr>\n",
              "      <th>2</th>\n",
              "      <td>2020-12-03</td>\n",
              "      <td>123.519997</td>\n",
              "      <td>123.779999</td>\n",
              "      <td>122.209999</td>\n",
              "      <td>122.940002</td>\n",
              "      <td>122.031281</td>\n",
              "      <td>78967600</td>\n",
              "    </tr>\n",
              "    <tr>\n",
              "      <th>3</th>\n",
              "      <td>2020-12-04</td>\n",
              "      <td>122.599998</td>\n",
              "      <td>122.860001</td>\n",
              "      <td>121.519997</td>\n",
              "      <td>122.250000</td>\n",
              "      <td>121.346375</td>\n",
              "      <td>78260400</td>\n",
              "    </tr>\n",
              "    <tr>\n",
              "      <th>4</th>\n",
              "      <td>2020-12-07</td>\n",
              "      <td>122.309998</td>\n",
              "      <td>124.570000</td>\n",
              "      <td>122.250000</td>\n",
              "      <td>123.750000</td>\n",
              "      <td>122.835289</td>\n",
              "      <td>86712000</td>\n",
              "    </tr>\n",
              "    <tr>\n",
              "      <th>...</th>\n",
              "      <td>...</td>\n",
              "      <td>...</td>\n",
              "      <td>...</td>\n",
              "      <td>...</td>\n",
              "      <td>...</td>\n",
              "      <td>...</td>\n",
              "      <td>...</td>\n",
              "    </tr>\n",
              "    <tr>\n",
              "      <th>248</th>\n",
              "      <td>2021-11-24</td>\n",
              "      <td>160.750000</td>\n",
              "      <td>162.139999</td>\n",
              "      <td>159.639999</td>\n",
              "      <td>161.940002</td>\n",
              "      <td>161.733948</td>\n",
              "      <td>69463600</td>\n",
              "    </tr>\n",
              "    <tr>\n",
              "      <th>249</th>\n",
              "      <td>2021-11-26</td>\n",
              "      <td>159.570007</td>\n",
              "      <td>160.449997</td>\n",
              "      <td>156.360001</td>\n",
              "      <td>156.809998</td>\n",
              "      <td>156.610474</td>\n",
              "      <td>76959800</td>\n",
              "    </tr>\n",
              "    <tr>\n",
              "      <th>250</th>\n",
              "      <td>2021-11-29</td>\n",
              "      <td>159.369995</td>\n",
              "      <td>161.190002</td>\n",
              "      <td>158.789993</td>\n",
              "      <td>160.240005</td>\n",
              "      <td>160.036102</td>\n",
              "      <td>88748200</td>\n",
              "    </tr>\n",
              "    <tr>\n",
              "      <th>251</th>\n",
              "      <td>2021-11-30</td>\n",
              "      <td>159.990005</td>\n",
              "      <td>165.520004</td>\n",
              "      <td>159.919998</td>\n",
              "      <td>165.300003</td>\n",
              "      <td>165.089676</td>\n",
              "      <td>174048100</td>\n",
              "    </tr>\n",
              "    <tr>\n",
              "      <th>252</th>\n",
              "      <td>2021-12-01</td>\n",
              "      <td>167.479996</td>\n",
              "      <td>170.300003</td>\n",
              "      <td>164.529999</td>\n",
              "      <td>164.770004</td>\n",
              "      <td>164.560349</td>\n",
              "      <td>152052500</td>\n",
              "    </tr>\n",
              "  </tbody>\n",
              "</table>\n",
              "<p>253 rows × 7 columns</p>\n",
              "</div>\n",
              "      <button class=\"colab-df-convert\" onclick=\"convertToInteractive('df-1df508a7-92c6-477e-85bf-50af6786f82c')\"\n",
              "              title=\"Convert this dataframe to an interactive table.\"\n",
              "              style=\"display:none;\">\n",
              "        \n",
              "  <svg xmlns=\"http://www.w3.org/2000/svg\" height=\"24px\"viewBox=\"0 0 24 24\"\n",
              "       width=\"24px\">\n",
              "    <path d=\"M0 0h24v24H0V0z\" fill=\"none\"/>\n",
              "    <path d=\"M18.56 5.44l.94 2.06.94-2.06 2.06-.94-2.06-.94-.94-2.06-.94 2.06-2.06.94zm-11 1L8.5 8.5l.94-2.06 2.06-.94-2.06-.94L8.5 2.5l-.94 2.06-2.06.94zm10 10l.94 2.06.94-2.06 2.06-.94-2.06-.94-.94-2.06-.94 2.06-2.06.94z\"/><path d=\"M17.41 7.96l-1.37-1.37c-.4-.4-.92-.59-1.43-.59-.52 0-1.04.2-1.43.59L10.3 9.45l-7.72 7.72c-.78.78-.78 2.05 0 2.83L4 21.41c.39.39.9.59 1.41.59.51 0 1.02-.2 1.41-.59l7.78-7.78 2.81-2.81c.8-.78.8-2.07 0-2.86zM5.41 20L4 18.59l7.72-7.72 1.47 1.35L5.41 20z\"/>\n",
              "  </svg>\n",
              "      </button>\n",
              "      \n",
              "  <style>\n",
              "    .colab-df-container {\n",
              "      display:flex;\n",
              "      flex-wrap:wrap;\n",
              "      gap: 12px;\n",
              "    }\n",
              "\n",
              "    .colab-df-convert {\n",
              "      background-color: #E8F0FE;\n",
              "      border: none;\n",
              "      border-radius: 50%;\n",
              "      cursor: pointer;\n",
              "      display: none;\n",
              "      fill: #1967D2;\n",
              "      height: 32px;\n",
              "      padding: 0 0 0 0;\n",
              "      width: 32px;\n",
              "    }\n",
              "\n",
              "    .colab-df-convert:hover {\n",
              "      background-color: #E2EBFA;\n",
              "      box-shadow: 0px 1px 2px rgba(60, 64, 67, 0.3), 0px 1px 3px 1px rgba(60, 64, 67, 0.15);\n",
              "      fill: #174EA6;\n",
              "    }\n",
              "\n",
              "    [theme=dark] .colab-df-convert {\n",
              "      background-color: #3B4455;\n",
              "      fill: #D2E3FC;\n",
              "    }\n",
              "\n",
              "    [theme=dark] .colab-df-convert:hover {\n",
              "      background-color: #434B5C;\n",
              "      box-shadow: 0px 1px 3px 1px rgba(0, 0, 0, 0.15);\n",
              "      filter: drop-shadow(0px 1px 2px rgba(0, 0, 0, 0.3));\n",
              "      fill: #FFFFFF;\n",
              "    }\n",
              "  </style>\n",
              "\n",
              "      <script>\n",
              "        const buttonEl =\n",
              "          document.querySelector('#df-1df508a7-92c6-477e-85bf-50af6786f82c button.colab-df-convert');\n",
              "        buttonEl.style.display =\n",
              "          google.colab.kernel.accessAllowed ? 'block' : 'none';\n",
              "\n",
              "        async function convertToInteractive(key) {\n",
              "          const element = document.querySelector('#df-1df508a7-92c6-477e-85bf-50af6786f82c');\n",
              "          const dataTable =\n",
              "            await google.colab.kernel.invokeFunction('convertToInteractive',\n",
              "                                                     [key], {});\n",
              "          if (!dataTable) return;\n",
              "\n",
              "          const docLinkHtml = 'Like what you see? Visit the ' +\n",
              "            '<a target=\"_blank\" href=https://colab.research.google.com/notebooks/data_table.ipynb>data table notebook</a>'\n",
              "            + ' to learn more about interactive tables.';\n",
              "          element.innerHTML = '';\n",
              "          dataTable['output_type'] = 'display_data';\n",
              "          await google.colab.output.renderOutput(dataTable, element);\n",
              "          const docLink = document.createElement('div');\n",
              "          docLink.innerHTML = docLinkHtml;\n",
              "          element.appendChild(docLink);\n",
              "        }\n",
              "      </script>\n",
              "    </div>\n",
              "  </div>\n",
              "  "
            ]
          },
          "metadata": {},
          "execution_count": 5
        }
      ]
    },
    {
      "cell_type": "markdown",
      "source": [
        "Plot the movement (shape) of the cryptocurrency over this time period and calculate its volatility. "
      ],
      "metadata": {
        "id": "_7lNXSOu9nu7"
      }
    },
    {
      "cell_type": "code",
      "source": [
        "import matplotlib.pyplot as plt\n",
        "y = df['Close']\n",
        "plt.plot(y)"
      ],
      "metadata": {
        "colab": {
          "base_uri": "https://localhost:8080/",
          "height": 282
        },
        "id": "M2ilfnPe-dTB",
        "outputId": "6e096d06-34da-4f8a-fdbc-204967cf7430"
      },
      "execution_count": 8,
      "outputs": [
        {
          "output_type": "execute_result",
          "data": {
            "text/plain": [
              "[<matplotlib.lines.Line2D at 0x7f30d2fe5590>]"
            ]
          },
          "metadata": {},
          "execution_count": 8
        },
        {
          "output_type": "display_data",
          "data": {
            "text/plain": [
              "<Figure size 432x288 with 1 Axes>"
            ],
            "image/png": "[encoded data removed]"
          },
          "metadata": {
            "needs_background": "light"
          }
        }
      ]
    },
    {
      "cell_type": "markdown",
      "source": [
        "Finding Volatility"
      ],
      "metadata": {
        "id": "dh76gYlk_clL"
      }
    },
    {
      "cell_type": "code",
      "source": [
        "import numpy as np\n",
        "df['Logreturns'] = np.log(df['Close']/df['Close'].shift())\n",
        "volatility = df['Log returns'].std()*252**.5\n",
        "volatility"
      ],
      "metadata": {
        "colab": {
          "base_uri": "https://localhost:8080/"
        },
        "id": "CMxgBSK__gYU",
        "outputId": "14575cb3-a3ad-49b6-cc93-4a7ee2cf39b6"
      },
      "execution_count": 26,
      "outputs": [
        {
          "output_type": "execute_result",
          "data": {
            "text/plain": [
              "0.24858998748052732"
            ]
          },
          "metadata": {},
          "execution_count": 26
        }
      ]
    },
    {
      "cell_type": "markdown",
      "source": [
        "Design a derivative and its associated pricing value using at least two methods which must be different.  \n",
        "\n",
        "Hints: Derivative can be any type, such as vanilla option, binary option etc"
      ],
      "metadata": {
        "id": "M3eFpLUhGMMi"
      }
    },
    {
      "cell_type": "code",
      "source": [
        "def black_scholes_call(S,K,T,r,q,sigma):\n",
        "    \"\"\"\n",
        "    Inputs\n",
        "    #S = Current stock Price\n",
        "    #K = Strike Price\n",
        "    #T = Time to maturity 1 year = 1, 1 months = 1/12\n",
        "    #r = risk free interest rate\n",
        "    #q = dividend yield\n",
        "    # sigma = volatility \n",
        "    \n",
        "    Output\n",
        "    # call_price = value of the option \n",
        "    \"\"\"\n",
        "    d1 = (np.log(S/K) + (r - q + sigma**2/2)*T) / sigma*np.sqrt(T)\n",
        "    d2 = d1 - sigma* np.sqrt(T)\n",
        "\n",
        "    \n",
        "    call = S * np.exp(-q*T)* norm.cdf(d1) - K * np.exp(-r*T)*norm.cdf(d2)\n",
        "    return call\n",
        "\n",
        "\n",
        "\n",
        "payoffs = np.maximum(paths[-1]-K, 0)\n",
        "option_price = np.mean(payoffs)*np.exp(-r*T) #discounting back to present value\n",
        "\n",
        "bs_price = black_scholes_call(S,K,T,r,q,sigma)\n",
        "\n",
        "print(f\"Black Scholes Price is {bs_price}\")\n",
        "print(f\"Simulated price is {option_price}\")"
      ],
      "metadata": {
        "colab": {
          "base_uri": "https://localhost:8080/"
        },
        "id": "vKJW7xk0BYgS",
        "outputId": "8a402277-d43d-4626-de5f-888ecf5b97d4"
      },
      "execution_count": 33,
      "outputs": [
        {
          "output_type": "stream",
          "name": "stdout",
          "text": [
            "Black Scholes Price is 3.7451887662410783\n",
            "Simulated price is 3.950349868543306\n"
          ]
        }
      ]
    },
    {
      "cell_type": "code",
      "source": [
        "from scipy.stats import norm\n",
        "S=100.0 # spot stock price\n",
        "K=115.0 # strike\n",
        "T=0.25 # maturity \n",
        "r=0.02  # risk free rate \n",
        "sigma=0.3  # annualized volatility\n",
        "Ndraws = 10_000_000\n",
        "\n",
        "\n",
        "np.random.seed(0)\n",
        "dS = np.random.normal((r - sigma**2/2)*T , sigma*np.sqrt(T), size=Ndraws)\n",
        "ST = 50 * np.exp(dS)\n",
        "\n",
        "\n",
        "n, bins, patches = plt.hist(ST,bins=250);\n",
        "plt.xlabel('$S_T$')\n",
        "plt.xlim([50,170])\n",
        "plt.ylabel('Frequency')\n",
        "plt.title('Stock Simulation')"
      ],
      "metadata": {
        "colab": {
          "base_uri": "https://localhost:8080/",
          "height": 316
        },
        "id": "cLMDDeqeNGnV",
        "outputId": "869aa299-6099-40d5-9344-570422851874"
      },
      "execution_count": 35,
      "outputs": [
        {
          "output_type": "execute_result",
          "data": {
            "text/plain": [
              "Text(0.5, 1.0, 'Stock Simulation')"
            ]
          },
          "metadata": {},
          "execution_count": 35
        },
        {
          "output_type": "display_data",
          "data": {
            "text/plain": [
              "<Figure size 432x288 with 1 Axes>"
            ],
            "image/png": "[encoded data removed]"
          },
          "metadata": {
            "needs_background": "light"
          }
        }
      ]
    },
    {
      "cell_type": "code",
      "source": [
        "def monte_carlo_binary(S, K, T, r, sigma, Q, \n",
        "                       type_='call', Ndraws=10_000_000, seed=0):\n",
        "    np.random.seed(seed)\n",
        "    dS = np.random.normal((r-sigma**2/2)*T, sigma*np.sqrt(T),size=Ndraws)\n",
        "    ST = S *np.exp(dS) \n",
        "    if type_ =='call':\n",
        "        return len(ST[ST>K])/Ndraws * Q *np.exp(-r*T)\n",
        "    elif type_ == 'put':\n",
        "        return len(ST[ST<K])/Ndraws *Q*np.exp(-r*T)\n",
        "    else:\n",
        "        raise ValueError('Type must be put or call')\n",
        "        \n",
        "\n",
        "    \n",
        "monte_carlo_binary(S, K, T, r, sigma, 5)"
      ],
      "metadata": {
        "colab": {
          "base_uri": "https://localhost:8080/"
        },
        "id": "z2_oFkYAQWFN",
        "outputId": "fb09dd39-ec62-463b-f207-1606d21addb3"
      },
      "execution_count": 37,
      "outputs": [
        {
          "output_type": "execute_result",
          "data": {
            "text/plain": [
              "0.8218086669146537"
            ]
          },
          "metadata": {},
          "execution_count": 37
        }
      ]
    }
  ]
}